{
 "cells": [
  {
   "cell_type": "markdown",
   "metadata": {},
   "source": [
    "# callPycheronMetric Tutorial \n",
    "\n",
    "The goal of this tutorial is to show users how to run a dataset through the callPycheronMetric script. We will walk through:\n",
    "\n",
    "1. [Installing Pycheron](#pycheron-install)\n",
    "2. [Loading Datasets](#dataset)\n",
    "3. [Running Pycheron](#running-callpycheronmetric)\n",
    "4. [Outputs](#outputs)"
   ]
  },
  {
   "cell_type": "markdown",
   "metadata": {},
   "source": [
    "## 1. Pycheron Install"
   ]
  },
  {
   "cell_type": "markdown",
   "metadata": {},
   "source": [
    "Pycheron requires several python libraries to run as well as a `gfortran` library, if the user plans on using the fortran feature. \n",
    "\n",
    "\n",
    "### Download\n",
    "Download Pycheron from the [gitlab repository](https://gitlab.sandia.gov/lynm/pycheron) and change into the top-level `pycheron` directory. You will see a `build.sh` file."
   ]
  },
  {
   "cell_type": "markdown",
   "metadata": {},
   "source": [
    "### Easiest\n",
    "\n",
    "The easiest way to install pycheron is to run:\n",
    "\n",
    "`sh build.sh <pycheron-version>`\n",
    "\n",
    "This will uninstall any old versions of pycheron and install all the python dependencies."
   ]
  },
  {
   "cell_type": "markdown",
   "metadata": {},
   "source": [
    "### Build from scratch\n",
    "\n",
    "To build the version from scratch run from the top-level directory: \n",
    "\n",
    "`python setup.py sdist bdist_wheel`\n",
    "\n",
    "and then\n",
    "\n",
    "`cd dist`\n",
    "\n",
    "from there you can use `pip` to install the `.whl` file:\n",
    "\n",
    "`pip install pycheron-$version-py2-none-any.whl`\n",
    "\n",
    "pisces will need to be installed separately\n",
    "\n",
    "`pip install pisces==0.2.4`"
   ]
  },
  {
   "cell_type": "markdown",
   "metadata": {},
   "source": [
    "### gfortran\n",
    "\n",
    "For Linux and OSX users, the option to use fortran-based scripts is available and recommended for faster runtimes. In order to use fortran a compiler needs to be installed. It is recommended that `gfortran` be used. For MacOS `gfortran 6.3` is specifically recommended and can be found [here](https://github.com/fxcoudert/gfortran-for-macOS/releases). For Unix systems gfortran binaries can be found [here](https://gcc.gnu.org/wiki/GFortranBinaries)"
   ]
  },
  {
   "cell_type": "markdown",
   "metadata": {},
   "source": [
    "### Know install issues\n",
    "\n",
    "- `obspy 1.1.0` has been release and updated their module taup, which is used by `pisces`. An `ImportError` my occur. The fix is on line 24 of `picses util.py`, replace:\n",
    "\n",
    "  `from obspy.taup import taup`\n",
    "\n",
    "   to\n",
    "\n",
    "  `from obspy import taup`\n",
    "\n",
    "     A issue has been submited on github to have this bug fixed in `pisces 0.2.4`. (https://github.com/jkmacc-LANL/pisces/issues/28)\n",
    "\n",
    "\n",
    "- `Numpy 1.14.5` is recommended to use if using Fortran. Higher versions have a bug in   `f2py`"
   ]
  },
  {
   "cell_type": "markdown",
   "metadata": {},
   "source": [
    "## 2. Datasets"
   ]
  },
  {
   "cell_type": "markdown",
   "metadata": {},
   "source": [
    "`callPycheronMetric` accepts four data types:\n",
    "\n",
    "- Directory (of MSEED files)\n",
    "- Wfdisc (CSS)\n",
    "- Obspy Stream\n",
    "- Singular MSEED file\n",
    "\n",
    "Depending on the data ingested there are different parameters that can be set. These will be gone over in Section 3."
   ]
  },
  {
   "cell_type": "markdown",
   "metadata": {},
   "source": [
    "### Directory\n",
    "\n",
    "If a directory is being used, pycheron assumes that all files are `.mseed` files. The folder structure should be:\n",
    "\n",
    "```\n",
    "My Folder\n",
    "    BGU_EHE_001.mseed\n",
    "    BGU_EHN_001.mseed\n",
    "    BGU_EHE_002.mseed\n",
    "    BGU_EHN_002.mseed\n",
    "    JPU_EHE_001.mseed\n",
    "    JPU_EHN_001.mseed\n",
    "    JPU_EHE_002.mseed\n",
    "    JPU_EHN_002.mseed\n",
    "    TCRU_EHE_001.mseed\n",
    "    TCRU_EHN_001.mseed\n",
    "    TCRU_EHE_002.mseed\n",
    "    TCRU_EHN_002.mseed\n",
    "```\n",
    "\n",
    "With each stream name in the format `<station>_<channel>_<julian day>.mseed`. The data used in this tutorial is already formatted correctly, however if you need to format your own data you can use the pycheron function `format_mseed_filenames` in the `pycheron.util.format` package."
   ]
  },
  {
   "cell_type": "markdown",
   "metadata": {},
   "source": [
    "### Wfdisc (CSS)\n",
    "\n",
    "If a Wfidisc (CSS) file is being used the only file that is input into the function is the actually `.wfdisc` file. However, you do need to make sure the `.w` paths listed in the `.wfdisc` file are all relative to the file. For example:\n",
    "\n",
    "```\n",
    "My Folder\n",
    "    data.wfdisc\n",
    "    data_directory\n",
    "        OWUT_EHZ_001.w \n",
    "        OWUT_EHZ_002.w \n",
    "        OWUT_EHZ_003.w \n",
    "        .\n",
    "        .\n",
    "        .\n",
    "        waveformN.w\n",
    "```\n",
    "\n",
    "and inside the `data.wfdisc`:\n",
    "\n",
    "```\n",
    "OWUT   EHZ       1293840000.00000   1927888      774  2011001  1293860963.29000  2096330  100.000000          1.00000         -1.00000 -      o i4 - data_directory               OWUT_EHZ_001.w                            0        -1 10-APR-18        \n",
    "OWUT   EHZ       1293861020.31000   1927890      774  2011001  1293861041.29000     2099  100.000000          1.00000         -1.00000 -      o i4 - data_directory               OWUT_EHZ_002.w                      8385320        -1 10-APR-18        \n",
    "OWUT   EHZ       1293861041.41000   1927892      774  2011001  1293865831.39000   478999  100.000000          1.00000         -1.00000 -      o i4 - data_directory               OWUT_EHZ_003.w                      8393716        -1 10-APR-18        \n",
    "```"
   ]
  },
  {
   "cell_type": "markdown",
   "metadata": {},
   "source": [
    "### mseed\n",
    "\n",
    "This is a single `mseed` file which is read in. It is suggested you use the directory and split the data up if the single stream contains multiple days."
   ]
  },
  {
   "cell_type": "markdown",
   "metadata": {},
   "source": [
    "### stream\n",
    "\n",
    "This is to be used only if inside a python console and not running via terminal. It is assumed that the stream has been either manually loaded using `obspy.read()` or downloaded using the obspy client and then calling the `callPycheronMetric()` as a function"
   ]
  },
  {
   "cell_type": "markdown",
   "metadata": {},
   "source": [
    "### Connecting to a database with Wfdisc tables\n",
    "\n",
    "Pycheron currently supports connection to wfdisc databases via SQLAlchemy."
   ]
  },
  {
   "cell_type": "markdown",
   "metadata": {},
   "source": [
    "## 3. Running callPycheronMetric"
   ]
  },
  {
   "cell_type": "markdown",
   "metadata": {},
   "source": [
    "### Parameters\n",
    "\n",
    "The `callPycheronMetric` has over 50 parameters, however the majority of them are all the thresholds for each of the corresponding metrics. What `callPycheronMetric` actually does is combine all of the metrics in the `pycheron.metrics` package and runs them, puts them into a database or csv, and plots figures. It is recommended you throughly read the documentation page on `callPycheronMetric` as it explains every single parameter. "
   ]
  },
  {
   "cell_type": "markdown",
   "metadata": {},
   "source": [
    "### Running via Command Line\n",
    "\n",
    "The easiest way to run `callPycheronMetric` is via the command line. Is by using a `config.yaml` file. There is a sample template in the `pycheron` folder that defines all of the default vaules. For this tutorial you can find it in the `data` folder."
   ]
  },
  {
   "cell_type": "markdown",
   "metadata": {},
   "source": [
    "### Running via Python"
   ]
  },
  {
   "cell_type": "markdown",
   "metadata": {},
   "source": [
    "## Outputs"
   ]
  },
  {
   "cell_type": "markdown",
   "metadata": {},
   "source": [
    "### CSV\n",
    "\n",
    "Output to a CSV file is possible. The output is saved into the following folder structure: \n",
    "\n",
    "```\n",
    "<output_directory>\n",
    "    <network_dir>\n",
    "        <station_dir>\n",
    "            <channel_1_dir>\n",
    "                <metric>.csv\n",
    "                <metric_plot>.png\n",
    "            <channel_2_dir>\n",
    "                <metric>.csv\n",
    "                <metric_plot>.png\n",
    "            <station_level_metrics>.csv\n",
    "            <station_level_plot>.png\n",
    "         <network_level_metric>.csv\n",
    "         <network_level_plot>.png\n",
    "```"
   ]
  },
  {
   "cell_type": "markdown",
   "metadata": {},
   "source": [
    "### Database\n",
    "\n",
    "If desired pycheron can output results into a sqllite database locally on you system. The default name for the database is `pycheron.db` but it can chnaged in the `config.yaml`"
   ]
  },
  {
   "cell_type": "markdown",
   "metadata": {},
   "source": [
    "### Pycheron UI\n",
    "\n",
    "To run the UI, from the pycheron folder call:\n",
    "\n",
    "`python ../pycheron/UI/createDashUI.py`\n",
    "\n",
    "This should bring up another window with the UI."
   ]
  },
  {
   "cell_type": "markdown",
   "metadata": {},
   "source": [
    "## 4. callPycheronMetric Example\n",
    "\n",
    "The `callPycheronMetric.py` script is installed as a script so you are able to run it directly from the command line"
   ]
  },
  {
   "cell_type": "code",
   "execution_count": 1,
   "metadata": {},
   "outputs": [
    {
     "name": "stdout",
     "output_type": "stream",
     "text": [
      "-----------------------------------------------\n",
      "Beginning Metric Calculations for UU.BGU Jul Date: 001\n",
      "-----------------------------------------------\n",
      "Calculating PSDS. This could take a while...\n",
      "No results found\n",
      "No results found\n",
      "No results found\n",
      "callPycheron(): Finished psdMetric for: UU.BGU\n",
      "callPycheron(): correlationMetric - No matching Traces... Skipping\n",
      "No results found\n",
      "callPycheron(): Finished gapMetric for: UU.BGU\n",
      "callPycheron(): transferFunctionMetric: No Matching Traces... Skipping Metric\n",
      "No results found\n",
      "No results found\n",
      "No results found\n",
      "callPycheron(): Finished basicStatsMetric for: UU.BGU\n",
      "No results found\n",
      "No results found\n",
      "No results found\n",
      "callPycheron(): Finished DCOffset for:UU.BGU\n",
      "No results found\n",
      "No results found\n",
      "No results found\n",
      "callPycheron(): Finished staltaMetric for: UU.BGU\n",
      "No results found\n",
      "No results found\n",
      "No results found\n",
      "callPycheron(): Finished snrMetric for: UU.BGU\n",
      "No results found\n",
      "No results found\n",
      "No results found\n",
      "callPycheron(): Finished deadChannelMetric for: UU.BGU\n",
      "No results found\n",
      "No results found\n",
      "No results found\n",
      "callPycheron(): Finished deadChanMeanMetric for: UU.BGU\n",
      "No results found\n",
      "No results found\n",
      "callPycheron(): Finished crossCorrMetric for: UU.BGU\n",
      "No results found\n",
      "callPycheron(): Finished sohMetric for: UU.BGU\n",
      "No results found\n",
      "No results found\n",
      "No results found\n",
      "callPycheron(): Finished repeatedAmplitude for: UU.BGU\n",
      "No results found\n",
      "No results found\n",
      "No results found\n",
      "callPycheron(): Finished spikesMetric for: UU.BGU\n",
      "No results found\n",
      "No results found\n",
      "No results found\n",
      "callPycheron(): Finished calibrationMetric for: UU.BGU\n",
      "-----------------------------------------------\n",
      "Plotting UU.BGU Jul Date: 001\n",
      "-----------------------------------------------\n",
      "No results found\n"
     ]
    },
    {
     "name": "stderr",
     "output_type": "stream",
     "text": [
      "Traceback (most recent call last):\n",
      "  File \"../pycheron/callPycheronMetric.py\", line 1703, in <module>\n",
      "    main()\n",
      "  File \"../pycheron/callPycheronMetric.py\", line 1696, in main\n",
      "    to_csv=cfg[\"to_csv\"], stationStartAt=cfg[\"stationStartAt\"])\n",
      "  File \"../pycheron/callPycheronMetric.py\", line 811, in callPycheron\n",
      "    dcLinThresholdHour, byHourOn, db, session)\n",
      "  File \"../pycheron/callPycheronMetric.py\", line 1094, in _call_pycheron_wrapper\n",
      "    network=network, station=station, channel=None, session=session)\n",
      "  File \"/Users/jbobeck/anaconda2/lib/python2.7/site-packages/pycheron/plotting/dailyPdfPlot.py\", line 130, in dailyPdfplots\n",
      "    location=location, logger=logger)\n",
      "  File \"/Users/jbobeck/anaconda2/lib/python2.7/site-packages/pycheron/plotting/dailyPdfPlot.py\", line 673, in _pdf_plots_from_database\n",
      "    stats = psdStatistics(chan_psds, logger=logger, database=database)\n",
      "  File \"/Users/jbobeck/anaconda2/lib/python2.7/site-packages/pycheron/psd/psdStatistics.py\", line 267, in psdStatistics\n",
      "    database.insert_metric(data)\n",
      "  File \"/Users/jbobeck/anaconda2/lib/python2.7/site-packages/pycheron/db/sqllite_db.py\", line 1211, in insert_metric\n",
      "    self._insert_metric_wrapper(conn, metric[i], timestamp)\n",
      "  File \"/Users/jbobeck/anaconda2/lib/python2.7/site-packages/pycheron/db/sqllite_db.py\", line 1329, in _insert_metric_wrapper\n",
      "    self._insert_metric(conn, metric, timestamp, overwrite)\n",
      "  File \"/Users/jbobeck/anaconda2/lib/python2.7/site-packages/pycheron/db/sqllite_db.py\", line 1376, in _insert_metric\n",
      "    db.execute(update)\n",
      "sqlite3.OperationalError: no such column: start_time\n"
     ]
    }
   ],
   "source": [
    "%%bash\n",
    "\n",
    "python ../pycheron/callPycheronMetric.py data/callPycheronMetric_tutorial_config.yaml"
   ]
  },
  {
   "cell_type": "code",
   "execution_count": null,
   "metadata": {},
   "outputs": [],
   "source": []
  }
 ],
 "metadata": {
  "kernelspec": {
   "display_name": "Python 2",
   "language": "python",
   "name": "python2"
  },
  "language_info": {
   "codemirror_mode": {
    "name": "ipython",
    "version": 2
   },
   "file_extension": ".py",
   "mimetype": "text/x-python",
   "name": "python",
   "nbconvert_exporter": "python",
   "pygments_lexer": "ipython2",
   "version": "2.7.15"
  }
 },
 "nbformat": 4,
 "nbformat_minor": 4
}